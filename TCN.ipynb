{
 "cells": [
  {
   "cell_type": "markdown",
   "metadata": {},
   "source": [
    "# Forecasting TCN Model\n",
    "\n",
    "---"
   ]
  },
  {
   "cell_type": "markdown",
   "metadata": {},
   "source": [
    "## Imports\n",
    "---"
   ]
  },
  {
   "cell_type": "code",
   "execution_count": 167,
   "metadata": {},
   "outputs": [
    {
     "data": {
      "text/plain": [
       "'cuda'"
      ]
     },
     "execution_count": 167,
     "metadata": {},
     "output_type": "execute_result"
    }
   ],
   "source": [
    "import torch.nn.functional as F\n",
    "from torch import nn\n",
    "import torch\n",
    "import pandas as pd\n",
    "import numpy as np\n",
    "from sklearn.model_selection import train_test_split\n",
    "from torch.utils.data import TensorDataset, DataLoader\n",
    "from tqdm.auto import tqdm\n",
    "from torcheval.metrics import R2Score\n",
    "\n",
    "\n",
    "# Device agnostic code\n",
    "DEVICE = \"cuda\" if torch.cuda.is_available() else \"cpu\";\n",
    "\n",
    "DEVICE"
   ]
  },
  {
   "cell_type": "markdown",
   "metadata": {},
   "source": [
    "## Preparing Data\n",
    "---\n",
    "\n",
    "The input size will be of shape `(BATCH_SIZE, time_steps, temporal_feature_count)`. \n",
    "in our case this will be 32, 2 (this can change depending on how far we want to go in the future, for our dataset one time step is of 15 seconds) and 6 (hour, month and day of week (`sin` and `cosin`))"
   ]
  },
  {
   "cell_type": "code",
   "execution_count": 168,
   "metadata": {},
   "outputs": [
    {
     "data": {
      "text/plain": [
       "torch.Size([1935, 10])"
      ]
     },
     "execution_count": 168,
     "metadata": {},
     "output_type": "execute_result"
    }
   ],
   "source": [
    "\n",
    "# Load data\n",
    "df = pd.read_csv(\"./participant_data.csv\")\n",
    "\n",
    "# Drop unnecessary columns\n",
    "df = df.drop([\"agentID\", \"Altitude\", \"Longitude\", \"Latitude\"], axis=1)\n",
    "df = df.dropna(how='all')\n",
    "\n",
    "# Convert '_time' to datetime and extract features\n",
    "df['datetime'] = pd.to_datetime(df['_time'], errors='coerce')\n",
    "\n",
    "df['hour_sin'] = np.sin(2 * np.pi * df['datetime'].dt.hour / 24)\n",
    "df['hour_cos'] = np.cos(2 * np.pi * df['datetime'].dt.hour / 24)\n",
    "\n",
    "df['dayOfWeek_sin'] = np.sin(2 * np.pi * df['datetime'].dt.day_of_week / 7)\n",
    "df['dayOfWeek_cos'] = np.cos(2 * np.pi * df['datetime'].dt.day_of_week / 7)\n",
    "\n",
    "df['month_sin'] = np.sin(2 * np.pi * df['datetime'].dt.month / 12)\n",
    "df['month_cos'] = np.cos(2 * np.pi * df['datetime'].dt.month / 12)\n",
    "\n",
    "# Drop the original time column and rows with NaN datetime\n",
    "df = df.drop([\"_time\"], axis=1)\n",
    "df = df.drop([\"datetime\"], axis=1)\n",
    "\n",
    "# Fill NaN values with the median\n",
    "columns_with_nan = df.columns[df.isnull().any()]\n",
    "for column in columns_with_nan:\n",
    "    median_value = df[column].median()  \n",
    "    df[column] = df[column].fillna(median_value)  \n",
    "\n",
    "# Convert non-numeric columns to numeric types\n",
    "df = df.apply(pd.to_numeric, errors='coerce')\n",
    "\n",
    "# Optionally save the cleaned DataFrame\n",
    "df.to_csv(\"./new.csv\", index=False)\n",
    "\n",
    "# Convert to NumPy array and then to a PyTorch tensor\n",
    "data = torch.from_numpy(df.to_numpy()).float()\n",
    "\n",
    "# ============================== END DATA PREPROCESSING ============================== \n",
    "\n",
    "data.shape"
   ]
  },
  {
   "cell_type": "markdown",
   "metadata": {},
   "source": [
    "## Data Splitting\n",
    "---"
   ]
  },
  {
   "cell_type": "markdown",
   "metadata": {},
   "source": [
    "This will seperate the data into the corresponding shape."
   ]
  },
  {
   "cell_type": "code",
   "execution_count": 169,
   "metadata": {},
   "outputs": [
    {
     "data": {
      "text/plain": [
       "((1932, 2, 6), (1932, 2, 4))"
      ]
     },
     "execution_count": 169,
     "metadata": {},
     "output_type": "execute_result"
    }
   ],
   "source": [
    "def create_sequences(features, targets, input_steps, output_steps):\n",
    "    X, y = [], []\n",
    "    for i in range(len(features) - input_steps - output_steps + 1):\n",
    "        X.append(features[i: i + input_steps])  \n",
    "        y.append(targets[i + input_steps: i + input_steps + output_steps])  \n",
    "\n",
    "    return np.array(X), np.array(y)\n",
    "\n",
    "input_steps = 2;\n",
    "output_steps = 2;\n",
    "\n",
    "X, y = create_sequences(data[:, 4:], data[:, :4], input_steps, output_steps);\n",
    "\n",
    "X.shape,y.shape"
   ]
  },
  {
   "cell_type": "markdown",
   "metadata": {},
   "source": [
    "Then, we simply have to split the data and labels into training and testing tensors and then put them into batched dataloaders."
   ]
  },
  {
   "cell_type": "code",
   "execution_count": 170,
   "metadata": {},
   "outputs": [
    {
     "data": {
      "text/plain": [
       "(torch.Size([32, 2, 6]), torch.Size([32, 2, 4]))"
      ]
     },
     "execution_count": 170,
     "metadata": {},
     "output_type": "execute_result"
    }
   ],
   "source": [
    "X_train, X_test, y_train, y_test = train_test_split(X, y, test_size=0.2, random_state=42);\n",
    "\n",
    "X_train = torch.tensor(X_train, dtype=torch.float32).to(DEVICE);\n",
    "X_test = torch.tensor(X_test, dtype=torch.float32).to(DEVICE);\n",
    "y_train = torch.tensor(y_train, dtype=torch.float32).to(DEVICE);\n",
    "y_test = torch.tensor(y_test, dtype=torch.float32).to(DEVICE);\n",
    "\n",
    "BATCH_SIZE = 32;\n",
    "\n",
    "train_dataset = TensorDataset(X_train, y_train);\n",
    "\n",
    "train_dataloader = DataLoader(\n",
    "    dataset=train_dataset, \n",
    "    shuffle=True,\n",
    "    drop_last=True,\n",
    "    batch_size=BATCH_SIZE\n",
    ");\n",
    "\n",
    "test_dataset = TensorDataset(X_test, y_test);\n",
    "\n",
    "test_dataloader = DataLoader(\n",
    "    dataset=test_dataset, \n",
    "    shuffle=False,\n",
    "    drop_last=True,\n",
    "    batch_size=BATCH_SIZE\n",
    ");\n",
    "\n",
    "next(iter(train_dataloader))[0].shape, next(iter(train_dataloader))[1].shape"
   ]
  },
  {
   "cell_type": "markdown",
   "metadata": {},
   "source": []
  },
  {
   "cell_type": "markdown",
   "metadata": {},
   "source": [
    "## Define Model Architecture\n",
    "---"
   ]
  },
  {
   "attachments": {
    "image.png": {
     "image/png": "[encoded data removed]"
    }
   },
   "cell_type": "markdown",
   "metadata": {},
   "source": [
    "![image.png](attachment:image.png)"
   ]
  },
  {
   "cell_type": "code",
   "execution_count": 171,
   "metadata": {},
   "outputs": [],
   "source": [
    "\n",
    "class TemporalBlock(nn.Module):\n",
    "    def __init__(self, in_channels, out_channels, kernal_size, dilation, dropout) -> None:\n",
    "        super(TemporalBlock, self).__init__();\n",
    "        padding = (kernal_size - 1) * dilation;\n",
    "    \n",
    "        self.conv1 = nn.Conv1d(\n",
    "            in_channels=in_channels,\n",
    "            out_channels=out_channels,\n",
    "            kernel_size=kernal_size,\n",
    "            padding=padding,\n",
    "            dilation=dilation\n",
    "        );\n",
    "    \n",
    "        self.relu1 = nn.ReLU();\n",
    "        self.dropout1 = nn.Dropout(dropout);\n",
    "    \n",
    "        self.conv2 = nn.Conv1d(\n",
    "            dilation=dilation,\n",
    "            in_channels=out_channels,\n",
    "            out_channels=out_channels,\n",
    "            kernel_size=kernal_size,\n",
    "            padding=padding\n",
    "        );\n",
    "    \n",
    "        self.relu2 = nn.ReLU();\n",
    "        self.dropout2 = nn.Dropout(dropout);\n",
    "\n",
    "        # 1x1 convolution for residual connection if in_channels != out_channels\n",
    "        self.downsample = nn.Conv1d(\n",
    "            in_channels=in_channels,         # Number of input channels/features\n",
    "            out_channels=out_channels,       # Number of output channels to match conv layers\n",
    "            kernel_size=1                    # 1x1 convolution does not affect sequence length\n",
    "        ) if in_channels != out_channels else None  # Only if input and output channels differ\n",
    "\n",
    "    def forward(self, x):\n",
    "        \"\"\"\n",
    "        Forward pass through the TemporalBlock.\n",
    "        Args:\n",
    "            x (Tensor): Input tensor of shape (batch_size, in_channels, sequence_length)\n",
    "        Returns:\n",
    "            Tensor: Output tensor of shape (batch_size, out_channels, adjusted_sequence_length)\n",
    "        \"\"\"\n",
    "\n",
    "        # x shape: (B, in_channels, L_in)\n",
    "        out = self.conv1(x)\n",
    "        out = out[:, :, :-self.conv1.padding[0]]  # Remove extra padding for causality\n",
    "        out = self.relu1(out)\n",
    "        out = self.dropout1(out)\n",
    "\n",
    "        out = self.conv2(out)\n",
    "        out = out[:, :, :-self.conv2.padding[0]]  # Remove extra padding\n",
    "        out = self.relu2(out)\n",
    "        out = self.dropout2(out)\n",
    "\n",
    "        # Residual connection\n",
    "        res = x\n",
    "        if self.downsample is not None:\n",
    "            res = self.downsample(x);\n",
    "\n",
    "        out = out + res[:, :, -out.size(2):]  # Adjust residual to match output length\n",
    "        return out;\n",
    "\n",
    "\n",
    "class TCN(nn.Module):\n",
    "    def __init__(self, input_size, output_size, num_channels, output_length, kernel_size=2, dropout=0.2) -> None:\n",
    "        super(TCN, self).__init__();\n",
    "\n",
    "        self.output_len = output_length;\n",
    "        layers = [];\n",
    "        num_levels = len(num_channels);\n",
    "\n",
    "        for i in range(num_levels):\n",
    "            dilation_size = 2 ** i; \n",
    "            in_channels = input_size if i == 0 else num_channels[i-1];\n",
    "            out_channels = num_channels[i];\n",
    "\n",
    "            layers.append(TemporalBlock(\n",
    "                in_channels=in_channels,\n",
    "                dilation=dilation_size,\n",
    "                dropout=dropout,\n",
    "                kernal_size=kernel_size,\n",
    "                out_channels=out_channels,\n",
    "            ));\n",
    "\n",
    "        self.network = nn.Sequential(*layers);\n",
    "\n",
    "        self.linear = nn.Linear(out_channels, output_size);\n",
    "\n",
    "    def forward(self, x):\n",
    "        \"\"\"\n",
    "        Forward pass through the TCN.\n",
    "        Args:\n",
    "            x (Tensor): Input tensor of shape (batch_size, sequence_length, input_size)\n",
    "        Returns:\n",
    "            Tensor: Output tensor of shape (batch_size, output_length, output_size)\n",
    "        \"\"\"\n",
    "\n",
    "        # Transpose x to have shape (batch_size, input_size, sequence_length)\n",
    "        x = x.transpose(1, 2)\n",
    "        # Pass through the TCN network\n",
    "        y = self.network(x) # Output shape: (batch_size, out_channels, adjusted_sequence_length) \n",
    "        # Transpose back to (batch_size, adjusted_sequence_length, out_channels) // in our case something like (32, 4, 64)\n",
    "        y = y.transpose(1, 2)\n",
    "\n",
    "        last_step = y[:, -1, :]  # Shape: (batch_size, out_channels)\n",
    "        outputs = []\n",
    "        current_input = last_step  # Shape: (batch_size, out_channels)\n",
    "        for _ in range(self.output_len):\n",
    "            out = self.linear(current_input)  # Shape: (batch_size, output_size)\n",
    "            outputs.append(out.unsqueeze(1))  # Shape: (batch_size, 1, output_size)\n",
    "            # Optionally, you can apply a nonlinear activation here if needed\n",
    "            # current_input remains the same\n",
    "        output = torch.cat(outputs, dim=1)  # Shape: (batch_size, output_length, output_size)\n",
    "        return output\n",
    "\n"
   ]
  },
  {
   "cell_type": "markdown",
   "metadata": {},
   "source": [
    "## Define a training function\n",
    "---"
   ]
  },
  {
   "cell_type": "code",
   "execution_count": 172,
   "metadata": {},
   "outputs": [],
   "source": [
    "def train_step(\n",
    "    X: torch.Tensor, \n",
    "    y: torch.Tensor,     \n",
    "    model: nn.Module,\n",
    "    loss_fn: nn.Module,\n",
    "    optimizer: torch.optim.Adam):\n",
    "    \n",
    "    X = X.to(DEVICE);\n",
    "    y = y.to(DEVICE);\n",
    "    model.to(DEVICE);\n",
    "    model.train();\n",
    "\n",
    "    # forward pass\n",
    "    preds = model(X);\n",
    "\n",
    "    # Calculate loss\n",
    "    loss = loss_fn(preds, y);\n",
    "\n",
    "    # reset gradients\n",
    "    optimizer.zero_grad();\n",
    "\n",
    "    # back prop\n",
    "    loss.backward();\n",
    "\n",
    "    # gradient desc\n",
    "    optimizer.step();\n",
    "\n",
    "    return (loss, preds);"
   ]
  },
  {
   "cell_type": "markdown",
   "metadata": {},
   "source": [
    "## Define Testing function\n",
    "---"
   ]
  },
  {
   "cell_type": "code",
   "execution_count": 173,
   "metadata": {},
   "outputs": [],
   "source": [
    "def test_step(    \n",
    "    X: torch.Tensor, \n",
    "    y: torch.Tensor,     \n",
    "    model: nn.Module,\n",
    "    loss_fn: nn.Module):\n",
    "    \n",
    "    X = X.to(DEVICE);\n",
    "    y = y.to(DEVICE);\n",
    "    model.to(DEVICE);\n",
    "    \n",
    "    # forward pass\n",
    "    preds = model(X);\n",
    "\n",
    "    # Calculate loss\n",
    "    loss = loss_fn(preds, y);\n",
    "\n",
    "    return (loss, preds);"
   ]
  },
  {
   "cell_type": "markdown",
   "metadata": {},
   "source": []
  },
  {
   "cell_type": "markdown",
   "metadata": {},
   "source": [
    "## Putting both Together\n",
    "---"
   ]
  },
  {
   "cell_type": "code",
   "execution_count": 174,
   "metadata": {},
   "outputs": [],
   "source": [
    "def train(\n",
    "    train_dataLoader: DataLoader, \n",
    "    test_dataLoader: DataLoader, \n",
    "    epochs: int,\n",
    "    model: nn.Module,\n",
    "    loss_fn: nn.Module,\n",
    "    optimizer: torch.optim.Optimizer,\n",
    "    metric: R2Score):\n",
    "    \"\"\"\n",
    "    This method will train the given model.\n",
    "    \"\"\"\n",
    "    model.to(DEVICE)  # Move model to DEVICE once, not in every batch\n",
    "\n",
    "    for epoch in tqdm(range(epochs)):\n",
    "        # Training phase\n",
    "        model.train()\n",
    "        total_train_loss = 0.0\n",
    "        metric.reset()  # Reset metric at the beginning of each epoch\n",
    "\n",
    "        for X, y in train_dataLoader:\n",
    "            train_loss, preds = train_step(\n",
    "                loss_fn=loss_fn,\n",
    "                model=model,\n",
    "                optimizer=optimizer,\n",
    "                X=X,\n",
    "                y=y,\n",
    "            )\n",
    "            seq_len = preds.shape[1]\n",
    "            for t in range(seq_len):\n",
    "                preds_t = preds[:, t, :]  # Shape: (batch_size, num_outputs)\n",
    "                y_t = y[:, t, :]\n",
    "                metric.update(preds_t, y_t)\n",
    "            total_train_loss += train_loss.item()  # Accumulate loss\n",
    "\n",
    "        # Compute average loss and R² for training\n",
    "        avg_train_loss = total_train_loss / len(train_dataLoader)\n",
    "        train_r2 = metric.compute().item()  # Get R² score\n",
    "\n",
    "        # Validation phase\n",
    "        model.eval()\n",
    "        total_test_loss = 0.0\n",
    "        metric.reset()  # Reset metric for validation\n",
    "\n",
    "        with torch.inference_mode():        \n",
    "            for X, y in test_dataLoader:\n",
    "                test_loss, preds = test_step(\n",
    "                    loss_fn=loss_fn,\n",
    "                    model=model,\n",
    "                    X=X,\n",
    "                    y=y\n",
    "                )\n",
    "                seq_len = preds.shape[1]\n",
    "                for t in range(seq_len):\n",
    "                    preds_t = preds[:, t, :]  # Shape: (batch_size, num_outputs)\n",
    "                    y_t = y[:, t, :]\n",
    "                    metric.update(preds_t, y_t)\n",
    "\n",
    "                total_test_loss += test_loss.item();\n",
    "\n",
    "        # Compute average loss and R² for validation\n",
    "        avg_test_loss = total_test_loss / len(test_dataLoader)\n",
    "        test_r2 = metric.compute().item()\n",
    "\n",
    "        print(f\"Epoch {epoch+1}/{epochs}\")\n",
    "        print(f\"TRAINING LOSS : {avg_train_loss:.4f} | TRAINING R² : {train_r2:.4f}\")\n",
    "        print(f\"VALIDATION LOSS : {avg_test_loss:.4f} | VALIDATION R² : {test_r2:.4f}\\n\")"
   ]
  },
  {
   "cell_type": "markdown",
   "metadata": {},
   "source": [
    "## Instantiate the model\n",
    "---"
   ]
  },
  {
   "cell_type": "code",
   "execution_count": 175,
   "metadata": {},
   "outputs": [
    {
     "data": {
      "text/plain": [
       "TCN(\n",
       "  (network): Sequential(\n",
       "    (0): TemporalBlock(\n",
       "      (conv1): Conv1d(6, 16, kernel_size=(3,), stride=(1,), padding=(2,))\n",
       "      (relu1): ReLU()\n",
       "      (dropout1): Dropout(p=0.2, inplace=False)\n",
       "      (conv2): Conv1d(16, 16, kernel_size=(3,), stride=(1,), padding=(2,))\n",
       "      (relu2): ReLU()\n",
       "      (dropout2): Dropout(p=0.2, inplace=False)\n",
       "      (downsample): Conv1d(6, 16, kernel_size=(1,), stride=(1,))\n",
       "    )\n",
       "    (1): TemporalBlock(\n",
       "      (conv1): Conv1d(16, 32, kernel_size=(3,), stride=(1,), padding=(4,), dilation=(2,))\n",
       "      (relu1): ReLU()\n",
       "      (dropout1): Dropout(p=0.2, inplace=False)\n",
       "      (conv2): Conv1d(32, 32, kernel_size=(3,), stride=(1,), padding=(4,), dilation=(2,))\n",
       "      (relu2): ReLU()\n",
       "      (dropout2): Dropout(p=0.2, inplace=False)\n",
       "      (downsample): Conv1d(16, 32, kernel_size=(1,), stride=(1,))\n",
       "    )\n",
       "  )\n",
       "  (linear): Linear(in_features=32, out_features=4, bias=True)\n",
       ")"
      ]
     },
     "execution_count": 175,
     "metadata": {},
     "output_type": "execute_result"
    }
   ],
   "source": [
    "\n",
    "\n",
    "output_size = 4;\n",
    "input_size = 6;\n",
    "num_channels = [16,32];\n",
    "time_steps = 2; # will predict 2 steps into the future.\n",
    "kernal_size = 3;\n",
    "\n",
    "model = TCN( \n",
    "    output_size=output_size,\n",
    "    input_size=input_size,\n",
    "    num_channels=num_channels,\n",
    "    output_length=time_steps,\n",
    "    kernel_size=kernal_size\n",
    ").to(DEVICE);\n",
    "\n",
    "model\n",
    "    "
   ]
  },
  {
   "cell_type": "markdown",
   "metadata": {},
   "source": [
    "## Find Loss Function and Optimizer\n",
    "---"
   ]
  },
  {
   "cell_type": "code",
   "execution_count": 176,
   "metadata": {},
   "outputs": [],
   "source": [
    "loss_fn = nn.MSELoss();\n",
    "optimizer = torch.optim.Adam(\n",
    "    params=model.parameters(),\n",
    "    lr=0.0001\n",
    ");"
   ]
  },
  {
   "cell_type": "markdown",
   "metadata": {},
   "source": []
  },
  {
   "cell_type": "markdown",
   "metadata": {},
   "source": [
    "## Train Model !\n",
    "---"
   ]
  },
  {
   "cell_type": "code",
   "execution_count": 177,
   "metadata": {},
   "outputs": [
    {
     "name": "stderr",
     "output_type": "stream",
     "text": [
      "  1%|          | 1/100 [00:00<00:30,  3.26it/s]"
     ]
    },
    {
     "name": "stdout",
     "output_type": "stream",
     "text": [
      "Epoch 1/100\n",
      "TRAINING LOSS : 1098817882.0501 | TRAINING R² : -0.3590\n",
      "VALIDATION LOSS : 5387.6733 | VALIDATION R² : -0.8971\n",
      "\n"
     ]
    },
    {
     "name": "stderr",
     "output_type": "stream",
     "text": [
      "  2%|▏         | 2/100 [00:00<00:26,  3.69it/s]"
     ]
    },
    {
     "name": "stdout",
     "output_type": "stream",
     "text": [
      "Epoch 2/100\n",
      "TRAINING LOSS : 1098817695.3715 | TRAINING R² : -0.3591\n",
      "VALIDATION LOSS : 5384.4379 | VALIDATION R² : -0.8959\n",
      "\n"
     ]
    },
    {
     "name": "stderr",
     "output_type": "stream",
     "text": [
      "  3%|▎         | 3/100 [00:00<00:24,  3.89it/s]"
     ]
    },
    {
     "name": "stdout",
     "output_type": "stream",
     "text": [
      "Epoch 3/100\n",
      "TRAINING LOSS : 1098817827.9731 | TRAINING R² : -0.3582\n",
      "VALIDATION LOSS : 5381.1421 | VALIDATION R² : -0.8947\n",
      "\n"
     ]
    },
    {
     "name": "stderr",
     "output_type": "stream",
     "text": [
      "  4%|▍         | 4/100 [00:01<00:25,  3.82it/s]"
     ]
    },
    {
     "name": "stdout",
     "output_type": "stream",
     "text": [
      "Epoch 4/100\n",
      "TRAINING LOSS : 1098817841.8279 | TRAINING R² : -0.3569\n",
      "VALIDATION LOSS : 5376.9236 | VALIDATION R² : -0.8931\n",
      "\n"
     ]
    },
    {
     "name": "stderr",
     "output_type": "stream",
     "text": [
      "  5%|▌         | 5/100 [00:01<00:24,  3.93it/s]"
     ]
    },
    {
     "name": "stdout",
     "output_type": "stream",
     "text": [
      "Epoch 5/100\n",
      "TRAINING LOSS : 1098817661.8407 | TRAINING R² : -0.3557\n",
      "VALIDATION LOSS : 5373.2894 | VALIDATION R² : -0.8917\n",
      "\n"
     ]
    },
    {
     "name": "stderr",
     "output_type": "stream",
     "text": [
      "  6%|▌         | 6/100 [00:01<00:23,  3.96it/s]"
     ]
    },
    {
     "name": "stdout",
     "output_type": "stream",
     "text": [
      "Epoch 6/100\n",
      "TRAINING LOSS : 1098817647.2303 | TRAINING R² : -0.3551\n",
      "VALIDATION LOSS : 5368.8462 | VALIDATION R² : -0.8901\n",
      "\n"
     ]
    },
    {
     "name": "stderr",
     "output_type": "stream",
     "text": [
      "  7%|▋         | 7/100 [00:01<00:22,  4.08it/s]"
     ]
    },
    {
     "name": "stdout",
     "output_type": "stream",
     "text": [
      "Epoch 7/100\n",
      "TRAINING LOSS : 549412657.3371 | TRAINING R² : -0.3539\n",
      "VALIDATION LOSS : 5364.8236 | VALIDATION R² : -0.8886\n",
      "\n"
     ]
    },
    {
     "name": "stderr",
     "output_type": "stream",
     "text": [
      "  8%|▊         | 8/100 [00:02<00:22,  4.16it/s]"
     ]
    },
    {
     "name": "stdout",
     "output_type": "stream",
     "text": [
      "Epoch 8/100\n",
      "TRAINING LOSS : 1098817563.6389 | TRAINING R² : -0.3531\n",
      "VALIDATION LOSS : 5360.0911 | VALIDATION R² : -0.8868\n",
      "\n"
     ]
    },
    {
     "name": "stderr",
     "output_type": "stream",
     "text": [
      "  9%|▉         | 9/100 [00:02<00:22,  4.10it/s]"
     ]
    },
    {
     "name": "stdout",
     "output_type": "stream",
     "text": [
      "Epoch 9/100\n",
      "TRAINING LOSS : 1098817438.1926 | TRAINING R² : -0.3517\n",
      "VALIDATION LOSS : 5355.7691 | VALIDATION R² : -0.8852\n",
      "\n"
     ]
    },
    {
     "name": "stderr",
     "output_type": "stream",
     "text": [
      " 10%|█         | 10/100 [00:02<00:21,  4.15it/s]"
     ]
    },
    {
     "name": "stdout",
     "output_type": "stream",
     "text": [
      "Epoch 10/100\n",
      "TRAINING LOSS : 1098817411.0571 | TRAINING R² : -0.3506\n",
      "VALIDATION LOSS : 5350.2421 | VALIDATION R² : -0.8831\n",
      "\n"
     ]
    },
    {
     "name": "stderr",
     "output_type": "stream",
     "text": [
      " 11%|█         | 11/100 [00:02<00:21,  4.15it/s]"
     ]
    },
    {
     "name": "stdout",
     "output_type": "stream",
     "text": [
      "Epoch 11/100\n",
      "TRAINING LOSS : 1098817325.0212 | TRAINING R² : -0.3494\n",
      "VALIDATION LOSS : 5344.7533 | VALIDATION R² : -0.8810\n",
      "\n"
     ]
    },
    {
     "name": "stderr",
     "output_type": "stream",
     "text": [
      " 12%|█▏        | 12/100 [00:02<00:20,  4.21it/s]"
     ]
    },
    {
     "name": "stdout",
     "output_type": "stream",
     "text": [
      "Epoch 12/100\n",
      "TRAINING LOSS : 1098817276.3379 | TRAINING R² : -0.3482\n",
      "VALIDATION LOSS : 5338.4576 | VALIDATION R² : -0.8786\n",
      "\n"
     ]
    },
    {
     "name": "stderr",
     "output_type": "stream",
     "text": [
      " 13%|█▎        | 13/100 [00:03<00:20,  4.25it/s]"
     ]
    },
    {
     "name": "stdout",
     "output_type": "stream",
     "text": [
      "Epoch 13/100\n",
      "TRAINING LOSS : 1098817215.0766 | TRAINING R² : -0.3463\n",
      "VALIDATION LOSS : 5334.4715 | VALIDATION R² : -0.8771\n",
      "\n"
     ]
    },
    {
     "name": "stderr",
     "output_type": "stream",
     "text": [
      " 14%|█▍        | 14/100 [00:03<00:19,  4.30it/s]"
     ]
    },
    {
     "name": "stdout",
     "output_type": "stream",
     "text": [
      "Epoch 14/100\n",
      "TRAINING LOSS : 1098817116.1144 | TRAINING R² : -0.3450\n",
      "VALIDATION LOSS : 5325.6098 | VALIDATION R² : -0.8738\n",
      "\n"
     ]
    },
    {
     "name": "stderr",
     "output_type": "stream",
     "text": [
      " 15%|█▌        | 15/100 [00:03<00:19,  4.28it/s]"
     ]
    },
    {
     "name": "stdout",
     "output_type": "stream",
     "text": [
      "Epoch 15/100\n",
      "TRAINING LOSS : 1098817096.4324 | TRAINING R² : -0.3440\n",
      "VALIDATION LOSS : 5319.3789 | VALIDATION R² : -0.8715\n",
      "\n"
     ]
    },
    {
     "name": "stderr",
     "output_type": "stream",
     "text": [
      " 16%|█▌        | 16/100 [00:03<00:20,  4.19it/s]"
     ]
    },
    {
     "name": "stdout",
     "output_type": "stream",
     "text": [
      "Epoch 16/100\n",
      "TRAINING LOSS : 1098816311.5153 | TRAINING R² : -0.3409\n",
      "VALIDATION LOSS : 5309.7230 | VALIDATION R² : -0.8678\n",
      "\n"
     ]
    },
    {
     "name": "stderr",
     "output_type": "stream",
     "text": [
      " 17%|█▋        | 17/100 [00:04<00:19,  4.18it/s]"
     ]
    },
    {
     "name": "stdout",
     "output_type": "stream",
     "text": [
      "Epoch 17/100\n",
      "TRAINING LOSS : 1098816772.7146 | TRAINING R² : -0.3386\n",
      "VALIDATION LOSS : 5300.8241 | VALIDATION R² : -0.8644\n",
      "\n"
     ]
    },
    {
     "name": "stderr",
     "output_type": "stream",
     "text": [
      " 18%|█▊        | 18/100 [00:04<00:19,  4.22it/s]"
     ]
    },
    {
     "name": "stdout",
     "output_type": "stream",
     "text": [
      "Epoch 18/100\n",
      "TRAINING LOSS : 1098816669.4769 | TRAINING R² : -0.3373\n",
      "VALIDATION LOSS : 5291.6845 | VALIDATION R² : -0.8610\n",
      "\n"
     ]
    },
    {
     "name": "stderr",
     "output_type": "stream",
     "text": [
      " 19%|█▉        | 19/100 [00:04<00:19,  4.15it/s]"
     ]
    },
    {
     "name": "stdout",
     "output_type": "stream",
     "text": [
      "Epoch 19/100\n",
      "TRAINING LOSS : 1098816629.5834 | TRAINING R² : -0.3395\n",
      "VALIDATION LOSS : 5281.1312 | VALIDATION R² : -0.8571\n",
      "\n"
     ]
    },
    {
     "name": "stderr",
     "output_type": "stream",
     "text": [
      " 20%|██        | 20/100 [00:04<00:18,  4.24it/s]"
     ]
    },
    {
     "name": "stdout",
     "output_type": "stream",
     "text": [
      "Epoch 20/100\n",
      "TRAINING LOSS : 1098816527.3716 | TRAINING R² : -0.3304\n",
      "VALIDATION LOSS : 5269.8759 | VALIDATION R² : -0.8528\n",
      "\n"
     ]
    },
    {
     "name": "stderr",
     "output_type": "stream",
     "text": [
      " 21%|██        | 21/100 [00:05<00:18,  4.29it/s]"
     ]
    },
    {
     "name": "stdout",
     "output_type": "stream",
     "text": [
      "Epoch 21/100\n",
      "TRAINING LOSS : 1098816475.9359 | TRAINING R² : -0.3276\n",
      "VALIDATION LOSS : 5255.9500 | VALIDATION R² : -0.8476\n",
      "\n"
     ]
    },
    {
     "name": "stderr",
     "output_type": "stream",
     "text": [
      " 22%|██▏       | 22/100 [00:05<00:17,  4.34it/s]"
     ]
    },
    {
     "name": "stdout",
     "output_type": "stream",
     "text": [
      "Epoch 22/100\n",
      "TRAINING LOSS : 1098815999.3806 | TRAINING R² : -0.3242\n",
      "VALIDATION LOSS : 5243.3122 | VALIDATION R² : -0.8429\n",
      "\n"
     ]
    },
    {
     "name": "stderr",
     "output_type": "stream",
     "text": [
      " 23%|██▎       | 23/100 [00:05<00:17,  4.33it/s]"
     ]
    },
    {
     "name": "stdout",
     "output_type": "stream",
     "text": [
      "Epoch 23/100\n",
      "TRAINING LOSS : 1098815849.6953 | TRAINING R² : -0.3201\n",
      "VALIDATION LOSS : 5224.7190 | VALIDATION R² : -0.8359\n",
      "\n"
     ]
    },
    {
     "name": "stderr",
     "output_type": "stream",
     "text": [
      " 24%|██▍       | 24/100 [00:05<00:17,  4.35it/s]"
     ]
    },
    {
     "name": "stdout",
     "output_type": "stream",
     "text": [
      "Epoch 24/100\n",
      "TRAINING LOSS : 1098816017.7576 | TRAINING R² : -0.3152\n",
      "VALIDATION LOSS : 5206.8789 | VALIDATION R² : -0.8292\n",
      "\n"
     ]
    },
    {
     "name": "stderr",
     "output_type": "stream",
     "text": [
      " 25%|██▌       | 25/100 [00:06<00:17,  4.29it/s]"
     ]
    },
    {
     "name": "stdout",
     "output_type": "stream",
     "text": [
      "Epoch 25/100\n",
      "TRAINING LOSS : 1098815538.3636 | TRAINING R² : -0.3104\n",
      "VALIDATION LOSS : 5190.6932 | VALIDATION R² : -0.8232\n",
      "\n"
     ]
    },
    {
     "name": "stderr",
     "output_type": "stream",
     "text": [
      " 26%|██▌       | 26/100 [00:06<00:17,  4.32it/s]"
     ]
    },
    {
     "name": "stdout",
     "output_type": "stream",
     "text": [
      "Epoch 26/100\n",
      "TRAINING LOSS : 1098815408.8476 | TRAINING R² : -0.3043\n",
      "VALIDATION LOSS : 5165.9580 | VALIDATION R² : -0.8138\n",
      "\n"
     ]
    },
    {
     "name": "stderr",
     "output_type": "stream",
     "text": [
      " 27%|██▋       | 27/100 [00:06<00:16,  4.31it/s]"
     ]
    },
    {
     "name": "stdout",
     "output_type": "stream",
     "text": [
      "Epoch 27/100\n",
      "TRAINING LOSS : 1098815410.7631 | TRAINING R² : -0.2989\n",
      "VALIDATION LOSS : 5144.0044 | VALIDATION R² : -0.8055\n",
      "\n"
     ]
    },
    {
     "name": "stderr",
     "output_type": "stream",
     "text": [
      " 28%|██▊       | 28/100 [00:06<00:16,  4.35it/s]"
     ]
    },
    {
     "name": "stdout",
     "output_type": "stream",
     "text": [
      "Epoch 28/100\n",
      "TRAINING LOSS : 1098815084.2986 | TRAINING R² : -0.2914\n",
      "VALIDATION LOSS : 5116.8554 | VALIDATION R² : -0.7954\n",
      "\n"
     ]
    },
    {
     "name": "stderr",
     "output_type": "stream",
     "text": [
      " 29%|██▉       | 29/100 [00:06<00:16,  4.31it/s]"
     ]
    },
    {
     "name": "stdout",
     "output_type": "stream",
     "text": [
      "Epoch 29/100\n",
      "TRAINING LOSS : 1098814661.6837 | TRAINING R² : -0.3063\n",
      "VALIDATION LOSS : 5095.6889 | VALIDATION R² : -0.7875\n",
      "\n"
     ]
    },
    {
     "name": "stderr",
     "output_type": "stream",
     "text": [
      " 30%|███       | 30/100 [00:07<00:16,  4.29it/s]"
     ]
    },
    {
     "name": "stdout",
     "output_type": "stream",
     "text": [
      "Epoch 30/100\n",
      "TRAINING LOSS : 1098814519.9939 | TRAINING R² : -0.2767\n",
      "VALIDATION LOSS : 5061.6842 | VALIDATION R² : -0.7748\n",
      "\n"
     ]
    },
    {
     "name": "stderr",
     "output_type": "stream",
     "text": [
      " 31%|███       | 31/100 [00:07<00:16,  4.31it/s]"
     ]
    },
    {
     "name": "stdout",
     "output_type": "stream",
     "text": [
      "Epoch 31/100\n",
      "TRAINING LOSS : 1098814166.0797 | TRAINING R² : -0.2695\n",
      "VALIDATION LOSS : 5037.9258 | VALIDATION R² : -0.7660\n",
      "\n"
     ]
    },
    {
     "name": "stderr",
     "output_type": "stream",
     "text": [
      " 32%|███▏      | 32/100 [00:07<00:15,  4.33it/s]"
     ]
    },
    {
     "name": "stdout",
     "output_type": "stream",
     "text": [
      "Epoch 32/100\n",
      "TRAINING LOSS : 1098813593.2781 | TRAINING R² : -0.2592\n",
      "VALIDATION LOSS : 5000.5118 | VALIDATION R² : -0.7520\n",
      "\n"
     ]
    },
    {
     "name": "stderr",
     "output_type": "stream",
     "text": [
      " 33%|███▎      | 33/100 [00:07<00:15,  4.27it/s]"
     ]
    },
    {
     "name": "stdout",
     "output_type": "stream",
     "text": [
      "Epoch 33/100\n",
      "TRAINING LOSS : 549410130.3828 | TRAINING R² : -0.2716\n",
      "VALIDATION LOSS : 4977.3236 | VALIDATION R² : -0.7434\n",
      "\n"
     ]
    },
    {
     "name": "stderr",
     "output_type": "stream",
     "text": [
      " 34%|███▍      | 34/100 [00:08<00:15,  4.28it/s]"
     ]
    },
    {
     "name": "stdout",
     "output_type": "stream",
     "text": [
      "Epoch 34/100\n",
      "TRAINING LOSS : 1098812925.2294 | TRAINING R² : -0.2439\n",
      "VALIDATION LOSS : 4945.8566 | VALIDATION R² : -0.7317\n",
      "\n"
     ]
    },
    {
     "name": "stderr",
     "output_type": "stream",
     "text": [
      " 35%|███▌      | 35/100 [00:08<00:15,  4.31it/s]"
     ]
    },
    {
     "name": "stdout",
     "output_type": "stream",
     "text": [
      "Epoch 35/100\n",
      "TRAINING LOSS : 1098813023.4673 | TRAINING R² : -0.2329\n",
      "VALIDATION LOSS : 4904.5376 | VALIDATION R² : -0.7163\n",
      "\n"
     ]
    },
    {
     "name": "stderr",
     "output_type": "stream",
     "text": [
      " 36%|███▌      | 36/100 [00:08<00:14,  4.30it/s]"
     ]
    },
    {
     "name": "stdout",
     "output_type": "stream",
     "text": [
      "Epoch 36/100\n",
      "TRAINING LOSS : 1098812053.1807 | TRAINING R² : -0.2428\n",
      "VALIDATION LOSS : 4874.9810 | VALIDATION R² : -0.7053\n",
      "\n"
     ]
    },
    {
     "name": "stderr",
     "output_type": "stream",
     "text": [
      " 37%|███▋      | 37/100 [00:08<00:14,  4.28it/s]"
     ]
    },
    {
     "name": "stdout",
     "output_type": "stream",
     "text": [
      "Epoch 37/100\n",
      "TRAINING LOSS : 1098812826.6678 | TRAINING R² : -0.2105\n",
      "VALIDATION LOSS : 4829.1723 | VALIDATION R² : -0.6883\n",
      "\n"
     ]
    },
    {
     "name": "stderr",
     "output_type": "stream",
     "text": [
      " 38%|███▊      | 38/100 [00:09<00:14,  4.33it/s]"
     ]
    },
    {
     "name": "stdout",
     "output_type": "stream",
     "text": [
      "Epoch 38/100\n",
      "TRAINING LOSS : 1098810842.7952 | TRAINING R² : -0.2001\n",
      "VALIDATION LOSS : 4785.8096 | VALIDATION R² : -0.6721\n",
      "\n"
     ]
    },
    {
     "name": "stderr",
     "output_type": "stream",
     "text": [
      " 39%|███▉      | 39/100 [00:09<00:14,  4.33it/s]"
     ]
    },
    {
     "name": "stdout",
     "output_type": "stream",
     "text": [
      "Epoch 39/100\n",
      "TRAINING LOSS : 1098811087.9757 | TRAINING R² : -0.2034\n",
      "VALIDATION LOSS : 4745.4744 | VALIDATION R² : -0.6571\n",
      "\n"
     ]
    },
    {
     "name": "stderr",
     "output_type": "stream",
     "text": [
      " 40%|████      | 40/100 [00:09<00:13,  4.37it/s]"
     ]
    },
    {
     "name": "stdout",
     "output_type": "stream",
     "text": [
      "Epoch 40/100\n",
      "TRAINING LOSS : 1098809866.1441 | TRAINING R² : -0.1773\n",
      "VALIDATION LOSS : 4695.8318 | VALIDATION R² : -0.6385\n",
      "\n"
     ]
    },
    {
     "name": "stderr",
     "output_type": "stream",
     "text": [
      " 41%|████      | 41/100 [00:09<00:13,  4.31it/s]"
     ]
    },
    {
     "name": "stdout",
     "output_type": "stream",
     "text": [
      "Epoch 41/100\n",
      "TRAINING LOSS : 1098809742.1599 | TRAINING R² : -0.1608\n",
      "VALIDATION LOSS : 4631.3201 | VALIDATION R² : -0.6143\n",
      "\n"
     ]
    },
    {
     "name": "stderr",
     "output_type": "stream",
     "text": [
      " 42%|████▏     | 42/100 [00:09<00:14,  4.08it/s]"
     ]
    },
    {
     "name": "stdout",
     "output_type": "stream",
     "text": [
      "Epoch 42/100\n",
      "TRAINING LOSS : 1098808388.4720 | TRAINING R² : -0.1483\n",
      "VALIDATION LOSS : 4574.6667 | VALIDATION R² : -0.5931\n",
      "\n"
     ]
    },
    {
     "name": "stderr",
     "output_type": "stream",
     "text": [
      " 43%|████▎     | 43/100 [00:10<00:13,  4.13it/s]"
     ]
    },
    {
     "name": "stdout",
     "output_type": "stream",
     "text": [
      "Epoch 43/100\n",
      "TRAINING LOSS : 1098808814.6762 | TRAINING R² : -0.1293\n",
      "VALIDATION LOSS : 4519.3728 | VALIDATION R² : -0.5724\n",
      "\n"
     ]
    },
    {
     "name": "stderr",
     "output_type": "stream",
     "text": [
      " 44%|████▍     | 44/100 [00:10<00:13,  4.10it/s]"
     ]
    },
    {
     "name": "stdout",
     "output_type": "stream",
     "text": [
      "Epoch 44/100\n",
      "TRAINING LOSS : 1098807621.1762 | TRAINING R² : -0.1181\n",
      "VALIDATION LOSS : 4468.5416 | VALIDATION R² : -0.5532\n",
      "\n"
     ]
    },
    {
     "name": "stderr",
     "output_type": "stream",
     "text": [
      " 45%|████▌     | 45/100 [00:10<00:13,  4.16it/s]"
     ]
    },
    {
     "name": "stdout",
     "output_type": "stream",
     "text": [
      "Epoch 45/100\n",
      "TRAINING LOSS : 1098807078.8518 | TRAINING R² : -0.1058\n",
      "VALIDATION LOSS : 4427.2855 | VALIDATION R² : -0.5378\n",
      "\n"
     ]
    },
    {
     "name": "stderr",
     "output_type": "stream",
     "text": [
      " 46%|████▌     | 46/100 [00:10<00:12,  4.25it/s]"
     ]
    },
    {
     "name": "stdout",
     "output_type": "stream",
     "text": [
      "Epoch 46/100\n",
      "TRAINING LOSS : 1098805126.2254 | TRAINING R² : -0.0960\n",
      "VALIDATION LOSS : 4371.1540 | VALIDATION R² : -0.5165\n",
      "\n"
     ]
    },
    {
     "name": "stderr",
     "output_type": "stream",
     "text": [
      " 47%|████▋     | 47/100 [00:11<00:12,  4.30it/s]"
     ]
    },
    {
     "name": "stdout",
     "output_type": "stream",
     "text": [
      "Epoch 47/100\n",
      "TRAINING LOSS : 1098803564.9891 | TRAINING R² : -0.0822\n",
      "VALIDATION LOSS : 4321.3823 | VALIDATION R² : -0.4976\n",
      "\n"
     ]
    },
    {
     "name": "stderr",
     "output_type": "stream",
     "text": [
      " 48%|████▊     | 48/100 [00:11<00:11,  4.35it/s]"
     ]
    },
    {
     "name": "stdout",
     "output_type": "stream",
     "text": [
      "Epoch 48/100\n",
      "TRAINING LOSS : 1098804726.3477 | TRAINING R² : -0.0729\n",
      "VALIDATION LOSS : 4266.1929 | VALIDATION R² : -0.4766\n",
      "\n"
     ]
    },
    {
     "name": "stderr",
     "output_type": "stream",
     "text": [
      " 49%|████▉     | 49/100 [00:11<00:11,  4.40it/s]"
     ]
    },
    {
     "name": "stdout",
     "output_type": "stream",
     "text": [
      "Epoch 49/100\n",
      "TRAINING LOSS : 1098800164.0996 | TRAINING R² : -0.0583\n",
      "VALIDATION LOSS : 4194.0701 | VALIDATION R² : -0.4488\n",
      "\n"
     ]
    },
    {
     "name": "stderr",
     "output_type": "stream",
     "text": [
      " 50%|█████     | 50/100 [00:11<00:11,  4.39it/s]"
     ]
    },
    {
     "name": "stdout",
     "output_type": "stream",
     "text": [
      "Epoch 50/100\n",
      "TRAINING LOSS : 1098802174.2989 | TRAINING R² : -0.0476\n",
      "VALIDATION LOSS : 4144.3302 | VALIDATION R² : -0.4295\n",
      "\n"
     ]
    },
    {
     "name": "stderr",
     "output_type": "stream",
     "text": [
      " 51%|█████     | 51/100 [00:12<00:11,  4.32it/s]"
     ]
    },
    {
     "name": "stdout",
     "output_type": "stream",
     "text": [
      "Epoch 51/100\n",
      "TRAINING LOSS : 1098798799.2988 | TRAINING R² : -0.0409\n",
      "VALIDATION LOSS : 4103.4284 | VALIDATION R² : -0.4136\n",
      "\n"
     ]
    },
    {
     "name": "stderr",
     "output_type": "stream",
     "text": [
      " 52%|█████▏    | 52/100 [00:12<00:11,  4.34it/s]"
     ]
    },
    {
     "name": "stdout",
     "output_type": "stream",
     "text": [
      "Epoch 52/100\n",
      "TRAINING LOSS : 1098802503.3866 | TRAINING R² : -0.0345\n",
      "VALIDATION LOSS : 4060.7257 | VALIDATION R² : -0.3969\n",
      "\n"
     ]
    },
    {
     "name": "stderr",
     "output_type": "stream",
     "text": [
      " 53%|█████▎    | 53/100 [00:12<00:10,  4.37it/s]"
     ]
    },
    {
     "name": "stdout",
     "output_type": "stream",
     "text": [
      "Epoch 53/100\n",
      "TRAINING LOSS : 1098800023.7999 | TRAINING R² : -0.0316\n",
      "VALIDATION LOSS : 4009.2183 | VALIDATION R² : -0.3764\n",
      "\n"
     ]
    },
    {
     "name": "stderr",
     "output_type": "stream",
     "text": [
      " 54%|█████▍    | 54/100 [00:12<00:10,  4.36it/s]"
     ]
    },
    {
     "name": "stdout",
     "output_type": "stream",
     "text": [
      "Epoch 54/100\n",
      "TRAINING LOSS : 1098795281.1694 | TRAINING R² : -0.0212\n",
      "VALIDATION LOSS : 3968.0374 | VALIDATION R² : -0.3598\n",
      "\n"
     ]
    },
    {
     "name": "stderr",
     "output_type": "stream",
     "text": [
      " 55%|█████▌    | 55/100 [00:13<00:10,  4.17it/s]"
     ]
    },
    {
     "name": "stdout",
     "output_type": "stream",
     "text": [
      "Epoch 55/100\n",
      "TRAINING LOSS : 1098796866.7438 | TRAINING R² : -0.0256\n",
      "VALIDATION LOSS : 3930.2936 | VALIDATION R² : -0.3444\n",
      "\n"
     ]
    },
    {
     "name": "stderr",
     "output_type": "stream",
     "text": [
      " 56%|█████▌    | 56/100 [00:13<00:10,  4.23it/s]"
     ]
    },
    {
     "name": "stdout",
     "output_type": "stream",
     "text": [
      "Epoch 56/100\n",
      "TRAINING LOSS : 1098793855.9751 | TRAINING R² : -0.0232\n",
      "VALIDATION LOSS : 3895.3894 | VALIDATION R² : -0.3299\n",
      "\n"
     ]
    },
    {
     "name": "stderr",
     "output_type": "stream",
     "text": [
      " 57%|█████▋    | 57/100 [00:13<00:10,  4.26it/s]"
     ]
    },
    {
     "name": "stdout",
     "output_type": "stream",
     "text": [
      "Epoch 57/100\n",
      "TRAINING LOSS : 1098793468.6389 | TRAINING R² : -0.0224\n",
      "VALIDATION LOSS : 3864.2296 | VALIDATION R² : -0.3169\n",
      "\n"
     ]
    },
    {
     "name": "stderr",
     "output_type": "stream",
     "text": [
      " 58%|█████▊    | 58/100 [00:13<00:10,  4.18it/s]"
     ]
    },
    {
     "name": "stdout",
     "output_type": "stream",
     "text": [
      "Epoch 58/100\n",
      "TRAINING LOSS : 1098787809.1651 | TRAINING R² : -0.0276\n",
      "VALIDATION LOSS : 3837.1953 | VALIDATION R² : -0.3054\n",
      "\n"
     ]
    },
    {
     "name": "stderr",
     "output_type": "stream",
     "text": [
      " 59%|█████▉    | 59/100 [00:13<00:09,  4.17it/s]"
     ]
    },
    {
     "name": "stdout",
     "output_type": "stream",
     "text": [
      "Epoch 59/100\n",
      "TRAINING LOSS : 1098788323.2018 | TRAINING R² : -0.0268\n",
      "VALIDATION LOSS : 3807.6389 | VALIDATION R² : -0.2926\n",
      "\n"
     ]
    },
    {
     "name": "stderr",
     "output_type": "stream",
     "text": [
      " 60%|██████    | 60/100 [00:14<00:09,  4.01it/s]"
     ]
    },
    {
     "name": "stdout",
     "output_type": "stream",
     "text": [
      "Epoch 60/100\n",
      "TRAINING LOSS : 1098788596.5633 | TRAINING R² : -0.0334\n",
      "VALIDATION LOSS : 3782.2636 | VALIDATION R² : -0.2817\n",
      "\n"
     ]
    },
    {
     "name": "stderr",
     "output_type": "stream",
     "text": [
      " 61%|██████    | 61/100 [00:14<00:09,  4.14it/s]"
     ]
    },
    {
     "name": "stdout",
     "output_type": "stream",
     "text": [
      "Epoch 61/100\n",
      "TRAINING LOSS : 1098786859.5721 | TRAINING R² : -0.0358\n",
      "VALIDATION LOSS : 3751.2937 | VALIDATION R² : -0.2682\n",
      "\n"
     ]
    },
    {
     "name": "stderr",
     "output_type": "stream",
     "text": [
      " 62%|██████▏   | 62/100 [00:14<00:09,  4.19it/s]"
     ]
    },
    {
     "name": "stdout",
     "output_type": "stream",
     "text": [
      "Epoch 62/100\n",
      "TRAINING LOSS : 1096742329.4738 | TRAINING R² : -0.0423\n",
      "VALIDATION LOSS : 3722.9068 | VALIDATION R² : -0.2559\n",
      "\n"
     ]
    },
    {
     "name": "stderr",
     "output_type": "stream",
     "text": [
      " 63%|██████▎   | 63/100 [00:14<00:08,  4.16it/s]"
     ]
    },
    {
     "name": "stdout",
     "output_type": "stream",
     "text": [
      "Epoch 63/100\n",
      "TRAINING LOSS : 549395749.7356 | TRAINING R² : -0.0459\n",
      "VALIDATION LOSS : 3703.6657 | VALIDATION R² : -0.2481\n",
      "\n"
     ]
    },
    {
     "name": "stderr",
     "output_type": "stream",
     "text": [
      " 64%|██████▍   | 64/100 [00:15<00:08,  4.15it/s]"
     ]
    },
    {
     "name": "stdout",
     "output_type": "stream",
     "text": [
      "Epoch 64/100\n",
      "TRAINING LOSS : 1098779893.9717 | TRAINING R² : -0.0508\n",
      "VALIDATION LOSS : 3675.9947 | VALIDATION R² : -0.2363\n",
      "\n"
     ]
    },
    {
     "name": "stderr",
     "output_type": "stream",
     "text": [
      " 65%|██████▌   | 65/100 [00:15<00:08,  4.23it/s]"
     ]
    },
    {
     "name": "stdout",
     "output_type": "stream",
     "text": [
      "Epoch 65/100\n",
      "TRAINING LOSS : 1098780450.9781 | TRAINING R² : -0.0447\n",
      "VALIDATION LOSS : 3655.5464 | VALIDATION R² : -0.2280\n",
      "\n"
     ]
    },
    {
     "name": "stderr",
     "output_type": "stream",
     "text": [
      " 66%|██████▌   | 66/100 [00:15<00:07,  4.26it/s]"
     ]
    },
    {
     "name": "stdout",
     "output_type": "stream",
     "text": [
      "Epoch 66/100\n",
      "TRAINING LOSS : 1098780299.6229 | TRAINING R² : -0.0545\n",
      "VALIDATION LOSS : 3625.9623 | VALIDATION R² : -0.2152\n",
      "\n"
     ]
    },
    {
     "name": "stderr",
     "output_type": "stream",
     "text": [
      " 67%|██████▋   | 67/100 [00:15<00:07,  4.22it/s]"
     ]
    },
    {
     "name": "stdout",
     "output_type": "stream",
     "text": [
      "Epoch 67/100\n",
      "TRAINING LOSS : 1098782026.3421 | TRAINING R² : -0.0529\n",
      "VALIDATION LOSS : 3595.1478 | VALIDATION R² : -0.2022\n",
      "\n"
     ]
    },
    {
     "name": "stderr",
     "output_type": "stream",
     "text": [
      " 68%|██████▊   | 68/100 [00:16<00:07,  4.10it/s]"
     ]
    },
    {
     "name": "stdout",
     "output_type": "stream",
     "text": [
      "Epoch 68/100\n",
      "TRAINING LOSS : 1098768213.9509 | TRAINING R² : -0.0658\n",
      "VALIDATION LOSS : 3563.1253 | VALIDATION R² : -0.1888\n",
      "\n"
     ]
    },
    {
     "name": "stderr",
     "output_type": "stream",
     "text": [
      " 69%|██████▉   | 69/100 [00:16<00:07,  4.14it/s]"
     ]
    },
    {
     "name": "stdout",
     "output_type": "stream",
     "text": [
      "Epoch 69/100\n",
      "TRAINING LOSS : 1098769784.9621 | TRAINING R² : -0.0515\n",
      "VALIDATION LOSS : 3539.1815 | VALIDATION R² : -0.1795\n",
      "\n"
     ]
    },
    {
     "name": "stderr",
     "output_type": "stream",
     "text": [
      " 70%|███████   | 70/100 [00:16<00:07,  4.14it/s]"
     ]
    },
    {
     "name": "stdout",
     "output_type": "stream",
     "text": [
      "Epoch 70/100\n",
      "TRAINING LOSS : 1098766912.8903 | TRAINING R² : -0.0599\n",
      "VALIDATION LOSS : 3509.1477 | VALIDATION R² : -0.1670\n",
      "\n"
     ]
    },
    {
     "name": "stderr",
     "output_type": "stream",
     "text": [
      " 71%|███████   | 71/100 [00:16<00:06,  4.15it/s]"
     ]
    },
    {
     "name": "stdout",
     "output_type": "stream",
     "text": [
      "Epoch 71/100\n",
      "TRAINING LOSS : 1098769116.7935 | TRAINING R² : -0.0672\n",
      "VALIDATION LOSS : 3478.5367 | VALIDATION R² : -0.1541\n",
      "\n"
     ]
    },
    {
     "name": "stderr",
     "output_type": "stream",
     "text": [
      " 72%|███████▏  | 72/100 [00:17<00:06,  4.13it/s]"
     ]
    },
    {
     "name": "stdout",
     "output_type": "stream",
     "text": [
      "Epoch 72/100\n",
      "TRAINING LOSS : 549386709.9294 | TRAINING R² : -0.0654\n",
      "VALIDATION LOSS : 3455.1700 | VALIDATION R² : -0.1456\n",
      "\n"
     ]
    },
    {
     "name": "stderr",
     "output_type": "stream",
     "text": [
      " 73%|███████▎  | 73/100 [00:17<00:06,  4.21it/s]"
     ]
    },
    {
     "name": "stdout",
     "output_type": "stream",
     "text": [
      "Epoch 73/100\n",
      "TRAINING LOSS : 1098767242.9777 | TRAINING R² : -0.0598\n",
      "VALIDATION LOSS : 3431.3782 | VALIDATION R² : -0.1363\n",
      "\n"
     ]
    },
    {
     "name": "stderr",
     "output_type": "stream",
     "text": [
      " 74%|███████▍  | 74/100 [00:17<00:06,  4.26it/s]"
     ]
    },
    {
     "name": "stdout",
     "output_type": "stream",
     "text": [
      "Epoch 74/100\n",
      "TRAINING LOSS : 1098756429.5429 | TRAINING R² : -0.0661\n",
      "VALIDATION LOSS : 3405.3040 | VALIDATION R² : -0.1255\n",
      "\n"
     ]
    },
    {
     "name": "stderr",
     "output_type": "stream",
     "text": [
      " 75%|███████▌  | 75/100 [00:17<00:05,  4.20it/s]"
     ]
    },
    {
     "name": "stdout",
     "output_type": "stream",
     "text": [
      "Epoch 75/100\n",
      "TRAINING LOSS : 1098750749.0191 | TRAINING R² : -0.0618\n",
      "VALIDATION LOSS : 3380.6801 | VALIDATION R² : -0.1155\n",
      "\n"
     ]
    },
    {
     "name": "stderr",
     "output_type": "stream",
     "text": [
      " 76%|███████▌  | 76/100 [00:18<00:05,  4.21it/s]"
     ]
    },
    {
     "name": "stdout",
     "output_type": "stream",
     "text": [
      "Epoch 76/100\n",
      "TRAINING LOSS : 1098752977.6967 | TRAINING R² : -0.0572\n",
      "VALIDATION LOSS : 3360.7593 | VALIDATION R² : -0.1078\n",
      "\n"
     ]
    },
    {
     "name": "stderr",
     "output_type": "stream",
     "text": [
      " 77%|███████▋  | 77/100 [00:18<00:05,  4.21it/s]"
     ]
    },
    {
     "name": "stdout",
     "output_type": "stream",
     "text": [
      "Epoch 77/100\n",
      "TRAINING LOSS : 1098743067.8915 | TRAINING R² : -0.0668\n",
      "VALIDATION LOSS : 3340.2763 | VALIDATION R² : -0.1003\n",
      "\n"
     ]
    },
    {
     "name": "stderr",
     "output_type": "stream",
     "text": [
      " 78%|███████▊  | 78/100 [00:18<00:05,  4.14it/s]"
     ]
    },
    {
     "name": "stdout",
     "output_type": "stream",
     "text": [
      "Epoch 78/100\n",
      "TRAINING LOSS : 1098749345.7866 | TRAINING R² : -0.0628\n",
      "VALIDATION LOSS : 3324.6399 | VALIDATION R² : -0.0939\n",
      "\n"
     ]
    },
    {
     "name": "stderr",
     "output_type": "stream",
     "text": [
      " 79%|███████▉  | 79/100 [00:18<00:05,  4.16it/s]"
     ]
    },
    {
     "name": "stdout",
     "output_type": "stream",
     "text": [
      "Epoch 79/100\n",
      "TRAINING LOSS : 1098728060.6873 | TRAINING R² : -0.0717\n",
      "VALIDATION LOSS : 3311.1264 | VALIDATION R² : -0.0890\n",
      "\n"
     ]
    },
    {
     "name": "stderr",
     "output_type": "stream",
     "text": [
      " 80%|████████  | 80/100 [00:19<00:04,  4.14it/s]"
     ]
    },
    {
     "name": "stdout",
     "output_type": "stream",
     "text": [
      "Epoch 80/100\n",
      "TRAINING LOSS : 1098756223.9953 | TRAINING R² : -0.0643\n",
      "VALIDATION LOSS : 3296.7770 | VALIDATION R² : -0.0842\n",
      "\n"
     ]
    },
    {
     "name": "stderr",
     "output_type": "stream",
     "text": [
      " 81%|████████  | 81/100 [00:19<00:04,  4.19it/s]"
     ]
    },
    {
     "name": "stdout",
     "output_type": "stream",
     "text": [
      "Epoch 81/100\n",
      "TRAINING LOSS : 1098739985.7958 | TRAINING R² : -0.0643\n",
      "VALIDATION LOSS : 3285.0391 | VALIDATION R² : -0.0805\n",
      "\n"
     ]
    },
    {
     "name": "stderr",
     "output_type": "stream",
     "text": [
      " 82%|████████▏ | 82/100 [00:19<00:04,  4.29it/s]"
     ]
    },
    {
     "name": "stdout",
     "output_type": "stream",
     "text": [
      "Epoch 82/100\n",
      "TRAINING LOSS : 1098727684.8312 | TRAINING R² : -0.0551\n",
      "VALIDATION LOSS : 3290.4256 | VALIDATION R² : -0.0831\n",
      "\n"
     ]
    },
    {
     "name": "stderr",
     "output_type": "stream",
     "text": [
      " 83%|████████▎ | 83/100 [00:19<00:03,  4.34it/s]"
     ]
    },
    {
     "name": "stdout",
     "output_type": "stream",
     "text": [
      "Epoch 83/100\n",
      "TRAINING LOSS : 1098716014.3779 | TRAINING R² : -0.0562\n",
      "VALIDATION LOSS : 3293.3312 | VALIDATION R² : -0.0852\n",
      "\n"
     ]
    },
    {
     "name": "stderr",
     "output_type": "stream",
     "text": [
      " 84%|████████▍ | 84/100 [00:19<00:03,  4.39it/s]"
     ]
    },
    {
     "name": "stdout",
     "output_type": "stream",
     "text": [
      "Epoch 84/100\n",
      "TRAINING LOSS : 1098717159.1005 | TRAINING R² : -0.0596\n",
      "VALIDATION LOSS : 3309.6153 | VALIDATION R² : -0.0926\n",
      "\n"
     ]
    },
    {
     "name": "stderr",
     "output_type": "stream",
     "text": [
      " 85%|████████▌ | 85/100 [00:20<00:03,  4.32it/s]"
     ]
    },
    {
     "name": "stdout",
     "output_type": "stream",
     "text": [
      "Epoch 85/100\n",
      "TRAINING LOSS : 1098723740.3947 | TRAINING R² : -0.0582\n",
      "VALIDATION LOSS : 3315.3957 | VALIDATION R² : -0.0960\n",
      "\n"
     ]
    },
    {
     "name": "stderr",
     "output_type": "stream",
     "text": [
      " 86%|████████▌ | 86/100 [00:20<00:03,  4.33it/s]"
     ]
    },
    {
     "name": "stdout",
     "output_type": "stream",
     "text": [
      "Epoch 86/100\n",
      "TRAINING LOSS : 1098709495.2261 | TRAINING R² : -0.0546\n",
      "VALIDATION LOSS : 3344.3869 | VALIDATION R² : -0.1088\n",
      "\n"
     ]
    },
    {
     "name": "stderr",
     "output_type": "stream",
     "text": [
      " 87%|████████▋ | 87/100 [00:20<00:03,  4.30it/s]"
     ]
    },
    {
     "name": "stdout",
     "output_type": "stream",
     "text": [
      "Epoch 87/100\n",
      "TRAINING LOSS : 1098704663.9461 | TRAINING R² : -0.0534\n",
      "VALIDATION LOSS : 3374.7932 | VALIDATION R² : -0.1220\n",
      "\n"
     ]
    },
    {
     "name": "stderr",
     "output_type": "stream",
     "text": [
      " 88%|████████▊ | 88/100 [00:20<00:02,  4.26it/s]"
     ]
    },
    {
     "name": "stdout",
     "output_type": "stream",
     "text": [
      "Epoch 88/100\n",
      "TRAINING LOSS : 1098720972.6348 | TRAINING R² : -0.0522\n",
      "VALIDATION LOSS : 3400.1422 | VALIDATION R² : -0.1333\n",
      "\n"
     ]
    },
    {
     "name": "stderr",
     "output_type": "stream",
     "text": [
      " 89%|████████▉ | 89/100 [00:21<00:02,  4.05it/s]"
     ]
    },
    {
     "name": "stdout",
     "output_type": "stream",
     "text": [
      "Epoch 89/100\n",
      "TRAINING LOSS : 1098724123.0237 | TRAINING R² : -0.0546\n",
      "VALIDATION LOSS : 3436.8086 | VALIDATION R² : -0.1492\n",
      "\n"
     ]
    },
    {
     "name": "stderr",
     "output_type": "stream",
     "text": [
      " 90%|█████████ | 90/100 [00:21<00:02,  4.12it/s]"
     ]
    },
    {
     "name": "stdout",
     "output_type": "stream",
     "text": [
      "Epoch 90/100\n",
      "TRAINING LOSS : 1098695172.7963 | TRAINING R² : -0.0566\n",
      "VALIDATION LOSS : 3491.5715 | VALIDATION R² : -0.1725\n",
      "\n"
     ]
    },
    {
     "name": "stderr",
     "output_type": "stream",
     "text": [
      " 91%|█████████ | 91/100 [00:21<00:02,  4.20it/s]"
     ]
    },
    {
     "name": "stdout",
     "output_type": "stream",
     "text": [
      "Epoch 91/100\n",
      "TRAINING LOSS : 1098700974.3059 | TRAINING R² : -0.0558\n",
      "VALIDATION LOSS : 3546.8252 | VALIDATION R² : -0.1961\n",
      "\n"
     ]
    },
    {
     "name": "stderr",
     "output_type": "stream",
     "text": [
      " 92%|█████████▏| 92/100 [00:21<00:01,  4.29it/s]"
     ]
    },
    {
     "name": "stdout",
     "output_type": "stream",
     "text": [
      "Epoch 92/100\n",
      "TRAINING LOSS : 1098682934.7603 | TRAINING R² : -0.0556\n",
      "VALIDATION LOSS : 3619.5231 | VALIDATION R² : -0.2268\n",
      "\n"
     ]
    },
    {
     "name": "stderr",
     "output_type": "stream",
     "text": [
      " 93%|█████████▎| 93/100 [00:22<00:01,  4.30it/s]"
     ]
    },
    {
     "name": "stdout",
     "output_type": "stream",
     "text": [
      "Epoch 93/100\n",
      "TRAINING LOSS : 1098689362.6490 | TRAINING R² : -0.0516\n",
      "VALIDATION LOSS : 3697.2402 | VALIDATION R² : -0.2595\n",
      "\n"
     ]
    },
    {
     "name": "stderr",
     "output_type": "stream",
     "text": [
      " 94%|█████████▍| 94/100 [00:22<00:01,  4.29it/s]"
     ]
    },
    {
     "name": "stdout",
     "output_type": "stream",
     "text": [
      "Epoch 94/100\n",
      "TRAINING LOSS : 1098718492.7384 | TRAINING R² : -0.0501\n",
      "VALIDATION LOSS : 3756.9767 | VALIDATION R² : -0.2847\n",
      "\n"
     ]
    },
    {
     "name": "stderr",
     "output_type": "stream",
     "text": [
      " 95%|█████████▌| 95/100 [00:22<00:01,  4.34it/s]"
     ]
    },
    {
     "name": "stdout",
     "output_type": "stream",
     "text": [
      "Epoch 95/100\n",
      "TRAINING LOSS : 1098702417.2191 | TRAINING R² : -0.0506\n",
      "VALIDATION LOSS : 3823.1654 | VALIDATION R² : -0.3125\n",
      "\n"
     ]
    },
    {
     "name": "stderr",
     "output_type": "stream",
     "text": [
      " 96%|█████████▌| 96/100 [00:22<00:00,  4.29it/s]"
     ]
    },
    {
     "name": "stdout",
     "output_type": "stream",
     "text": [
      "Epoch 96/100\n",
      "TRAINING LOSS : 1098680502.6634 | TRAINING R² : -0.0441\n",
      "VALIDATION LOSS : 3921.3932 | VALIDATION R² : -0.3534\n",
      "\n"
     ]
    },
    {
     "name": "stderr",
     "output_type": "stream",
     "text": [
      " 97%|█████████▋| 97/100 [00:23<00:00,  4.15it/s]"
     ]
    },
    {
     "name": "stdout",
     "output_type": "stream",
     "text": [
      "Epoch 97/100\n",
      "TRAINING LOSS : 1098702289.9588 | TRAINING R² : -0.0516\n",
      "VALIDATION LOSS : 4029.9848 | VALIDATION R² : -0.3986\n",
      "\n"
     ]
    },
    {
     "name": "stderr",
     "output_type": "stream",
     "text": [
      " 98%|█████████▊| 98/100 [00:23<00:00,  4.10it/s]"
     ]
    },
    {
     "name": "stdout",
     "output_type": "stream",
     "text": [
      "Epoch 98/100\n",
      "TRAINING LOSS : 1098667667.6659 | TRAINING R² : -0.0544\n",
      "VALIDATION LOSS : 4069.6201 | VALIDATION R² : -0.4149\n",
      "\n"
     ]
    },
    {
     "name": "stderr",
     "output_type": "stream",
     "text": [
      " 99%|█████████▉| 99/100 [00:23<00:00,  4.12it/s]"
     ]
    },
    {
     "name": "stdout",
     "output_type": "stream",
     "text": [
      "Epoch 99/100\n",
      "TRAINING LOSS : 1098673176.9373 | TRAINING R² : -0.0548\n",
      "VALIDATION LOSS : 4260.4678 | VALIDATION R² : -0.4941\n",
      "\n"
     ]
    },
    {
     "name": "stderr",
     "output_type": "stream",
     "text": [
      "100%|██████████| 100/100 [00:23<00:00,  4.21it/s]"
     ]
    },
    {
     "name": "stdout",
     "output_type": "stream",
     "text": [
      "Epoch 100/100\n",
      "TRAINING LOSS : 1098645629.4085 | TRAINING R² : -0.0479\n",
      "VALIDATION LOSS : 4448.2899 | VALIDATION R² : -0.5720\n",
      "\n"
     ]
    },
    {
     "name": "stderr",
     "output_type": "stream",
     "text": [
      "\n"
     ]
    }
   ],
   "source": [
    "train(\n",
    "    epochs=100,\n",
    "    loss_fn=loss_fn,\n",
    "    model=model.to(DEVICE),\n",
    "    optimizer=optimizer,\n",
    "    test_dataLoader=test_dataloader,\n",
    "    train_dataLoader=train_dataloader,\n",
    "    metric=R2Score()\n",
    ");"
   ]
  },
  {
   "cell_type": "code",
   "execution_count": null,
   "metadata": {},
   "outputs": [],
   "source": []
  }
 ],
 "metadata": {
  "kernelspec": {
   "display_name": "Python 3",
   "language": "python",
   "name": "python3"
  },
  "language_info": {
   "codemirror_mode": {
    "name": "ipython",
    "version": 3
   },
   "file_extension": ".py",
   "mimetype": "text/x-python",
   "name": "python",
   "nbconvert_exporter": "python",
   "pygments_lexer": "ipython3",
   "version": "3.10.9"
  }
 },
 "nbformat": 4,
 "nbformat_minor": 2
}
